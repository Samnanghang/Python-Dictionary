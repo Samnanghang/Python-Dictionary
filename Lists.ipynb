{
 "cells": [
  {
   "cell_type": "code",
   "execution_count": 5,
   "metadata": {},
   "outputs": [
    {
     "name": "stdout",
     "output_type": "stream",
     "text": [
      "[1, 'hello', [1, 2, 3], True]\n"
     ]
    }
   ],
   "source": [
    "# Create a list a_list, with the following elements 1, hello, [1,2,3] and True\n",
    "A_list = [1, 'hello', [1, 2, 3] , True]\n",
    "print(A_list)"
   ]
  },
  {
   "cell_type": "code",
   "execution_count": 7,
   "metadata": {},
   "outputs": [
    {
     "data": {
      "text/plain": [
       "(True,)"
      ]
     },
     "execution_count": 7,
     "metadata": {},
     "output_type": "execute_result"
    }
   ],
   "source": [
    "# Retrieve the elements stored at index 1, 2 and 3 of a_list.\n",
    "A_list = [1, 'hello', [1, 2 , 3]] , True\n",
    "A_list[1:4]"
   ]
  },
  {
   "cell_type": "code",
   "execution_count": 8,
   "metadata": {},
   "outputs": [
    {
     "data": {
      "text/plain": [
       "[1, 'a', 2, 1, 'd']"
      ]
     },
     "execution_count": 8,
     "metadata": {},
     "output_type": "execute_result"
    }
   ],
   "source": [
    "# Concatenate the following lists A = [1, 'a'] and B [2, 1 'd']:\n",
    "A_list = [1, 'hello', [1, 2, 3] , True]\n",
    "A = [1, 'a'] \n",
    "B = [2, 1, 'd']\n",
    "A + B"
   ]
  },
  {
   "cell_type": "code",
   "execution_count": 9,
   "metadata": {},
   "outputs": [],
   "source": [
    "# At first we need to create an empty list for storing the items to buy in shopping list.\n",
    "Shopping_list=[]"
   ]
  },
  {
   "cell_type": "code",
   "execution_count": 12,
   "metadata": {},
   "outputs": [],
   "source": [
    "# Now store the Number of items to the shopping_list\n",
    "Shopping_list=[\"Watch\",\"Laptop\",\"Shoes\",\"Pen\",\"Clothes\"]"
   ]
  },
  {
   "cell_type": "code",
   "execution_count": 13,
   "metadata": {},
   "outputs": [],
   "source": [
    "# Seems like I missed one item \"Football\" to add in the shopping list\n",
    "Shopping_list=[\"Watch\",\"Laptop\",\"Shoes\",\"Pen\",\"Clothes\"]\n",
    "Shopping_list.append(\"Football\")"
   ]
  },
  {
   "cell_type": "code",
   "execution_count": 14,
   "metadata": {},
   "outputs": [
    {
     "name": "stdout",
     "output_type": "stream",
     "text": [
      "Watch\n"
     ]
    }
   ],
   "source": [
    "# Let's check the first item that we need to buy\n",
    "Shopping_list=[\"Watch\",\"Laptop\",\"Shoes\",\"Pen\",\"Clothes\"]\n",
    "Shopping_list.append(\"FootBall\")\n",
    "print(Shopping_list[0])"
   ]
  },
  {
   "cell_type": "code",
   "execution_count": 15,
   "metadata": {},
   "outputs": [
    {
     "name": "stdout",
     "output_type": "stream",
     "text": [
      "Football\n"
     ]
    }
   ],
   "source": [
    "# Let's check the last item that we need to buy.\n",
    "Shopping_list=[\"Watch\", \"Laptop\", \"Shoes\", \"Pen\", \"Clothes\"]\n",
    "Shopping_list.append(\"Football\")\n",
    "print(Shopping_list[-1])"
   ]
  },
  {
   "cell_type": "code",
   "execution_count": 16,
   "metadata": {},
   "outputs": [
    {
     "name": "stdout",
     "output_type": "stream",
     "text": [
      "['Watch', 'Laptop', 'Shoes', 'Pen', 'Clothes', 'Football']\n"
     ]
    }
   ],
   "source": [
    "# Print the entire shopping list\n",
    "Shopping_list=[\"Watch\", \"Laptop\", \"Shoes\", \"Pen\", \"Clothes\"]\n",
    "Shopping_list.append(\"Football\")\n",
    "print(Shopping_list)"
   ]
  },
  {
   "cell_type": "code",
   "execution_count": 17,
   "metadata": {},
   "outputs": [
    {
     "name": "stdout",
     "output_type": "stream",
     "text": [
      "['Laptop', 'Shoes']\n"
     ]
    }
   ],
   "source": [
    "# Print the item that are important to buy from the shopping list\n",
    "Shopping_list=[\"Watch\", \"Laptop\", \"Shoes\", \"Pen\", \"Clothes\"]\n",
    "Shopping_list.append(\"Football\")\n",
    "print(Shopping_list[1:3])"
   ]
  },
  {
   "cell_type": "code",
   "execution_count": 18,
   "metadata": {},
   "outputs": [],
   "source": [
    "#U h oh We have to switch Shoes with a Notebook!\n",
    "Shopping_list=[\"Watch\", \"Laptop\", \"Shoes\", \"Pen\", \"Clothes\"]\n",
    "Shopping_list.append(\"Football\")\n",
    "Shopping_list[3]= \"Notebook\""
   ]
  },
  {
   "cell_type": "code",
   "execution_count": 19,
   "metadata": {},
   "outputs": [],
   "source": [
    "Shopping_list=[\"Watch\", \"Laptop\", \"Shoes\", \"Pen\", \"Clothes\"]\n",
    "Shopping_list.append(\"Football\")\n",
    "Shopping_list[3]= \"Notebook\"\n",
    "del (Shopping_list[4])"
   ]
  },
  {
   "cell_type": "code",
   "execution_count": 20,
   "metadata": {},
   "outputs": [
    {
     "name": "stdout",
     "output_type": "stream",
     "text": [
      "['Watch', 'Laptop', 'Shoes', 'Notebook', 'Football']\n"
     ]
    }
   ],
   "source": [
    "Shopping_list=[\"Watch\", \"Laptop\", \"Shoes\", \"Pen\", \"Clothes\"]\n",
    "Shopping_list.append(\"Football\")\n",
    "Shopping_list[3]= \"Notebook\"\n",
    "del (Shopping_list[4])\n",
    "print (Shopping_list)"
   ]
  },
  {
   "cell_type": "code",
   "execution_count": null,
   "metadata": {},
   "outputs": [],
   "source": []
  }
 ],
 "metadata": {
  "kernelspec": {
   "display_name": "Python 3",
   "language": "python",
   "name": "python3"
  },
  "language_info": {
   "codemirror_mode": {
    "name": "ipython",
    "version": 3
   },
   "file_extension": ".py",
   "mimetype": "text/x-python",
   "name": "python",
   "nbconvert_exporter": "python",
   "pygments_lexer": "ipython3",
   "version": "3.11.9"
  }
 },
 "nbformat": 4,
 "nbformat_minor": 2
}
