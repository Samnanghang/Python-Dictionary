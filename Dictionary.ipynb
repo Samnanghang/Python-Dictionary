{
 "cells": [
  {
   "cell_type": "code",
   "execution_count": 1,
   "metadata": {},
   "outputs": [],
   "source": [
    "# Create the dictionary\n",
    "\n",
    "Dict = {\"key1\": 1, \"key2\": \"2\", \"key3\": [3, 3, 3], \"key4\": (4, 4, 4), ('key5'): 5, (0, 1): 6}"
   ]
  },
  {
   "cell_type": "code",
   "execution_count": 2,
   "metadata": {},
   "outputs": [
    {
     "data": {
      "text/plain": [
       "1"
      ]
     },
     "execution_count": 2,
     "metadata": {},
     "output_type": "execute_result"
    }
   ],
   "source": [
    "# Access to the value by the key\n",
    "Dict = {\"key1\": 1, \"key2\": \"2\", \"key3\": [3, 3, 3], \"key4\": (4, 4, 4), ('key5'): 5, (0, 1): 6}\n",
    "Dict[\"key1\"]"
   ]
  },
  {
   "cell_type": "code",
   "execution_count": 3,
   "metadata": {},
   "outputs": [
    {
     "data": {
      "text/plain": [
       "6"
      ]
     },
     "execution_count": 3,
     "metadata": {},
     "output_type": "execute_result"
    }
   ],
   "source": [
    "# Access to the  value by the key\n",
    "Dict = {\"key1\": 1, \"key2\": \"2\", \"key3\": [3, 3, 3], \"key4\": (4, 4, 4), ('key5'): 5, (0, 1): 6}\n",
    "Dict[(0, 1)]"
   ]
  },
  {
   "cell_type": "code",
   "execution_count": 4,
   "metadata": {},
   "outputs": [],
   "source": [
    "# Create a samle dictionary\n",
    "release_year_dict = {\"Thriller\": \"1982\", \"Back in Black\": \"1980\", \\\n",
    "                    \"The Dark Side of the Moon\": \"1973\", \"The Bodyguard\": \"1992\", \\\n",
    "                    \"Bat Out of Hell\": \"1977\", \"Their Greatest Hits (1971-1975)\": \"1976\", \\\n",
    "                    \"Saturday Night Fever\": \"1977\", \"Rumours\": \"1977\"}"
   ]
  },
  {
   "cell_type": "code",
   "execution_count": 5,
   "metadata": {},
   "outputs": [
    {
     "data": {
      "text/plain": [
       "'1982'"
      ]
     },
     "execution_count": 5,
     "metadata": {},
     "output_type": "execute_result"
    }
   ],
   "source": [
    "# Get Value By Keys\n",
    "release_year_dict = {\"Thriller\": \"1982\", \"Back in Black\": \"1980\", \\\n",
    "                    \"The Dark Side of the Moon\": \"1973\", \"The Bodyguard\": \"1992\", \\\n",
    "                    \"Bat Out of Hell\": \"1977\", \"Their Greatest Hits (1971-1975)\": \"1976\", \\\n",
    "                    \"Saturday Night Fever\": \"1977\", \"Rumours\": \"1977\"}\n",
    "release_year_dict['Thriller']"
   ]
  },
  {
   "cell_type": "code",
   "execution_count": 6,
   "metadata": {},
   "outputs": [
    {
     "data": {
      "text/plain": [
       "'1992'"
      ]
     },
     "execution_count": 6,
     "metadata": {},
     "output_type": "execute_result"
    }
   ],
   "source": [
    "# Get Value By Key\n",
    "release_year_dict = {\"Thriller\": \"1982\", \"Back in Black\": \"1980\", \\\n",
    "                    \"The Dark Side of the Moon\": \"1973\", \"The Bodyguard\": \"1992\", \\\n",
    "                    \"Bat Out of Hell\": \"1977\", \"Their Greatest Hits (1971-1975)\": \"1976\", \\\n",
    "                    \"Saturday Night Fever\": \"1977\", \"Rumours\": \"1977\"}\n",
    "release_year_dict[\"The Bodyguard\"]"
   ]
  },
  {
   "cell_type": "code",
   "execution_count": 7,
   "metadata": {},
   "outputs": [
    {
     "data": {
      "text/plain": [
       "dict_keys(['Thriller', 'Back in Black', 'The Dark Side of the Moon', 'The Bodyguard', 'Bat Out of Hell', 'Their Greatest Hits (1971-1975)', 'Saturday Night Fever', 'Rumours'])"
      ]
     },
     "execution_count": 7,
     "metadata": {},
     "output_type": "execute_result"
    }
   ],
   "source": [
    "# Get all the keys in the dictionary\n",
    "release_year_dict = {\"Thriller\": \"1982\", \"Back in Black\": \"1980\", \\\n",
    "                    \"The Dark Side of the Moon\": \"1973\", \"The Bodyguard\": \"1992\", \\\n",
    "                    \"Bat Out of Hell\": \"1977\", \"Their Greatest Hits (1971-1975)\": \"1976\", \\\n",
    "                    \"Saturday Night Fever\": \"1977\", \"Rumours\": \"1977\"}\n",
    "release_year_dict.keys()"
   ]
  },
  {
   "cell_type": "code",
   "execution_count": 8,
   "metadata": {},
   "outputs": [
    {
     "data": {
      "text/plain": [
       "dict_values(['1982', '1980', '1973', '1992', '1977', '1976', '1977', '1977'])"
      ]
     },
     "execution_count": 8,
     "metadata": {},
     "output_type": "execute_result"
    }
   ],
   "source": [
    "# Get All The values in the dictionary\n",
    "release_year_dict = {\"Thriller\": \"1982\", \"Back in Black\": \"1980\", \\\n",
    "                    \"The Dark Side of the Moon\": \"1973\", \"The Bodyguard\": \"1992\", \\\n",
    "                    \"Bat Out of Hell\": \"1977\", \"Their Greatest Hits (1971-1975)\": \"1976\", \\\n",
    "                    \"Saturday Night Fever\": \"1977\", \"Rumours\": \"1977\"}\n",
    "release_year_dict.values()"
   ]
  },
  {
   "cell_type": "code",
   "execution_count": 9,
   "metadata": {},
   "outputs": [],
   "source": [
    "# Append value with key into dictionary\n",
    "release_year_dict = {\"Thriller\": \"1982\", \"Back in Black\": \"1980\", \\\n",
    "                    \"The Dark Side of the Moon\": \"1973\", \"The Bodyguard\": \"1992\", \\\n",
    "                    \"Bat Out of Hell\": \"1977\", \"Their Greatest Hits (1971-1975)\": \"1976\", \\\n",
    "                    \"Saturday Night Fever\": \"1977\", \"Rumours\": \"1977\", \"Graduation\": '2007'}\n",
    "release_year_dict['Graduation'] = '2007'"
   ]
  },
  {
   "cell_type": "code",
   "execution_count": 10,
   "metadata": {},
   "outputs": [],
   "source": [
    "# Delete entries by key\n",
    "release_year_dict = {\"Thriller\": \"1982\", \"Back in Black\": \"1980\", \\\n",
    "                    \"The Dark Side of the Moon\": \"1973\", \"The Bodyguard\": \"1992\", \\\n",
    "                    \"Bat Out of Hell\": \"1977\", \"Their Greatest Hits (1971-1975)\": \"1976\", \\\n",
    "                    \"Saturday Night Fever\": \"1977\", \"Rumours\": \"1977\", \"Graduation\": '2007'}\n",
    "del(release_year_dict['Thriller'])\n",
    "del(release_year_dict['Graduation'])"
   ]
  },
  {
   "cell_type": "code",
   "execution_count": 11,
   "metadata": {},
   "outputs": [
    {
     "data": {
      "text/plain": [
       "True"
      ]
     },
     "execution_count": 11,
     "metadata": {},
     "output_type": "execute_result"
    }
   ],
   "source": [
    "# Verify the key is in the dictionary\n",
    "release_year_dict = {\"Thriller\": \"1982\", \"Back in Black\": \"1980\", \\\n",
    "                    \"The Dark Side of the Moon\": \"1973\", \"The Bodyguard\": \"1992\", \\\n",
    "                    \"Bat Out of Hell\": \"1977\", \"Their Greatest Hits (1971-1975)\": \"1976\", \\\n",
    "                    \"Saturday Night Fever\": \"1977\", \"Rumours\": \"1977\", \"Graduation\": '2007'}\n",
    "'The Bodyguard' in release_year_dict"
   ]
  },
  {
   "cell_type": "code",
   "execution_count": 12,
   "metadata": {},
   "outputs": [],
   "source": [
    "# Question sample dictionary\n",
    "soundtrack_dic = {\"The Bodyguard\":\"1992\", \"Saturday Night Fever\":\"1977\"}"
   ]
  },
  {
   "cell_type": "code",
   "execution_count": 13,
   "metadata": {},
   "outputs": [
    {
     "data": {
      "text/plain": [
       "dict_keys(['The Bodyguard', 'Saturday Night Fever'])"
      ]
     },
     "execution_count": 13,
     "metadata": {},
     "output_type": "execute_result"
    }
   ],
   "source": [
    "soundtrack_dic = {\"The Bodyguard\":\"1992\", \"Saturday Night Fever\":\"1977\"}\n",
    "soundtrack_dic.keys()"
   ]
  },
  {
   "cell_type": "code",
   "execution_count": 14,
   "metadata": {},
   "outputs": [
    {
     "data": {
      "text/plain": [
       "dict_values(['1992', '1977'])"
      ]
     },
     "execution_count": 14,
     "metadata": {},
     "output_type": "execute_result"
    }
   ],
   "source": [
    "soundtrack_dic = {\"The Bodyguard\":\"1992\", \"Saturday Night Fever\":\"1977\"}\n",
    "soundtrack_dic.values() "
   ]
  },
  {
   "cell_type": "code",
   "execution_count": 15,
   "metadata": {},
   "outputs": [],
   "source": [
    "soundtrack_dic = {\"The Bodyguard\":\"1992\", \"Saturday Night Fever\":\"1977\"}\n",
    "album_sales_dict = {\"The Bodyguard\":50, \"Back in Black\":50, \"Thriller\":65}"
   ]
  },
  {
   "cell_type": "code",
   "execution_count": 16,
   "metadata": {},
   "outputs": [
    {
     "data": {
      "text/plain": [
       "65"
      ]
     },
     "execution_count": 16,
     "metadata": {},
     "output_type": "execute_result"
    }
   ],
   "source": [
    "soundtrack_dic = {\"The Bodyguard\":\"1992\", \"Saturday Night Fever\":\"1977\"}\n",
    "album_sales_dict = {\"The Bodyguard\":50, \"Back in Black\":50, \"Thriller\":65}\n",
    "album_sales_dict[\"Thriller\"]"
   ]
  },
  {
   "cell_type": "code",
   "execution_count": 17,
   "metadata": {},
   "outputs": [
    {
     "data": {
      "text/plain": [
       "dict_keys(['The Bodyguard', 'Back in Black', 'Thriller'])"
      ]
     },
     "execution_count": 17,
     "metadata": {},
     "output_type": "execute_result"
    }
   ],
   "source": [
    "soundtrack_dic = {\"The Bodyguard\":\"1992\", \"Saturday Night Fever\":\"1977\"}\n",
    "album_sales_dict = {\"The Bodyguard\":50, \"Back in Black\":50, \"Thriller\":65}\n",
    "album_sales_dict.keys()"
   ]
  },
  {
   "cell_type": "code",
   "execution_count": 18,
   "metadata": {},
   "outputs": [
    {
     "data": {
      "text/plain": [
       "dict_values([50, 50, 65])"
      ]
     },
     "execution_count": 18,
     "metadata": {},
     "output_type": "execute_result"
    }
   ],
   "source": [
    "soundtrack_dic = {\"The Bodyguard\":\"1992\", \"Saturday Night Fever\":\"1977\"}\n",
    "album_sales_dict = {\"The Bodyguard\":50, \"Back in Black\":50, \"Thriller\":65}\n",
    "album_sales_dict.values()"
   ]
  },
  {
   "cell_type": "code",
   "execution_count": 19,
   "metadata": {},
   "outputs": [],
   "source": [
    "# Create an empty dictionary\n",
    "inventory = {}"
   ]
  },
  {
   "cell_type": "code",
   "execution_count": 20,
   "metadata": {},
   "outputs": [],
   "source": [
    "# Store the first product details in variable\n",
    "inventory = {\"ProductNo1\": \"Mobile Phone\", \n",
    "\"ProductNo1_quantity\":5, \n",
    "\"ProductNo1_price\": 20000, \n",
    "\"ProductNo1_releaseYear\": 2020}"
   ]
  },
  {
   "cell_type": "code",
   "execution_count": 21,
   "metadata": {},
   "outputs": [],
   "source": [
    "# Add Details in the inventory\n",
    "inventory = {\"ProductNo1\": \"Mobile Phone\", \n",
    "\"ProductNo1_quantity\":5, \n",
    "\"ProductNo1_price\": 20000, \n",
    "\"ProductNo1_releaseYear\": 2020}\n",
    "inventory[\"ProductNo1\"]: \"ProductNo1\"\n",
    "inventory[\"ProductNo1_quantity\"]: \"ProductNo1_quantity\"\n",
    "inventory[\"ProductNo1_price\"]: \"ProductNo1_price\"\n",
    "inventory[\"ProductNo1_releaseYear\"]: \"ProductNo1_releaseYear\""
   ]
  },
  {
   "cell_type": "code",
   "execution_count": 22,
   "metadata": {},
   "outputs": [],
   "source": [
    "# Store the second product details in variable.\n",
    "inventory = {\"ProductNo1\": \"Mobile Phone\", \n",
    "\"ProductNo1_quantity\":5, \n",
    "\"ProductNo1_price\": 20000, \n",
    "\"ProductNo1_releaseYear\": 2020}\n",
    "inventory[\"ProductNo1\"]: \"ProductNo1\"\n",
    "inventory[\"ProductNo1_quantity\"]: \"ProductNo1_quantity\"\n",
    "inventory[\"ProductNo1_price\"]: \"ProductNo1_price\"\n",
    "inventory[\"ProductNo1_releaseYear\"]: \"ProductNo1_releaseYear\"\n",
    "inventory = {\"ProductNo2\": \"Laptop\", \n",
    "\"ProductNo1_quantity\":10, \n",
    "\"ProductNo1_price\": 50000, \n",
    "\"ProductNo1_releaseYear\": 2023}\n"
   ]
  },
  {
   "cell_type": "code",
   "execution_count": 23,
   "metadata": {},
   "outputs": [],
   "source": [
    "# Add the item detail into the inventory\n",
    "inventory = {\"ProductNo1\": \"Mobile Phone\", \n",
    "\"ProductNo1_quantity\":5, \n",
    "\"ProductNo1_price\": 20000, \n",
    "\"ProductNo1_releaseYear\": 2020}\n",
    "inventory[\"ProductNo1\"]: \"ProductNo1\"\n",
    "inventory[\"ProductNo1_quantity\"]: \"ProductNo1_quantity\"\n",
    "inventory[\"ProductNo1_price\"]: \"ProductNo1_price\"\n",
    "inventory[\"ProductNo1_releaseYear\"]: \"ProductNo1_releaseYear\"\n",
    "inventory = {\"ProductNo2\": \"Laptop\", \n",
    "\"ProductNo1_quantity\":10, \n",
    "\"ProductNo1_price\": 50000, \n",
    "\"ProductNo1_releaseYear\": 2023}\n",
    "inventory[\"ProductNo2\"]: \"ProductNo2\"\n",
    "inventory[\"ProductNo2_quantity\"]: \"ProductNo2_quantity\"\n",
    "inventory[\"ProductNo2_price\"]: \"ProductNo2_price\"\n",
    "inventory[\"ProductNo2_releaseYear\"]: \"ProductNo2_releaseYear\""
   ]
  },
  {
   "cell_type": "code",
   "execution_count": 24,
   "metadata": {},
   "outputs": [
    {
     "name": "stdout",
     "output_type": "stream",
     "text": [
      "{'ProductNo2': 'Laptop', 'ProductNo1_quantity': 10, 'ProductNo1_price': 50000, 'ProductNo1_releaseYear': 2023}\n"
     ]
    }
   ],
   "source": [
    "# Display the products present in the inventory\n",
    "inventory = {\"ProductNo1\": \"Mobile Phone\", \n",
    "\"ProductNo1_quantity\":5, \n",
    "\"ProductNo1_price\": 20000, \n",
    "\"ProductNo1_releaseYear\": 2020}\n",
    "inventory[\"ProductNo1\"]: \"ProductNo1\"\n",
    "inventory[\"ProductNo1_quantity\"]: \"ProductNo1_quantity\"\n",
    "inventory[\"ProductNo1_price\"]: \"ProductNo1_price\"\n",
    "inventory[\"ProductNo1_releaseYear\"]: \"ProductNo1_releaseYear\"\n",
    "inventory = {\"ProductNo2\": \"Laptop\", \n",
    "\"ProductNo1_quantity\":10, \n",
    "\"ProductNo1_price\": 50000, \n",
    "\"ProductNo1_releaseYear\": 2023}\n",
    "inventory[\"ProductNo2\"]: \"ProductNo2\"\n",
    "inventory[\"ProductNo2_quantity\"]: \"ProductNo2_quantity\"\n",
    "inventory[\"ProductNo2_price\"]: \"ProductNo2_price\"\n",
    "inventory[\"ProductNo2_releaseYear\"]: \"ProductNo2_releaseYear\"\n",
    "print(inventory)"
   ]
  },
  {
   "cell_type": "code",
   "execution_count": 25,
   "metadata": {},
   "outputs": [
    {
     "data": {
      "text/plain": [
       "False"
      ]
     },
     "execution_count": 25,
     "metadata": {},
     "output_type": "execute_result"
    }
   ],
   "source": [
    "# Check if the ProductNo1_releaseyear and ProductNo2_releaseyear is in the inventory\n",
    "inventory = {\"ProductNo1\": \"Mobile Phone\", \n",
    "\"ProductNo1_quantity\":5, \n",
    "\"ProductNo1_price\": 20000, \n",
    "\"ProductNo1_releaseYear\": 2020}\n",
    "inventory[\"ProductNo1\"]: \"ProductNo1\"\n",
    "inventory[\"ProductNo1_quantity\"]: \"ProductNo1_quantity\"\n",
    "inventory[\"ProductNo1_price\"]: \"ProductNo1_price\"\n",
    "inventory[\"ProductNo1_releaseYear\"]: \"ProductNo1_releaseYear\"\n",
    "inventory = {\"ProductNo2\": \"Laptop\", \n",
    "\"ProductNo1_quantity\":10, \n",
    "\"ProductNo1_price\": 50000, \n",
    "\"ProductNo1_releaseYear\": 2023}\n",
    "inventory[\"ProductNo2\"]: \"ProductNo2\"\n",
    "inventory[\"ProductNo2_quantity\"]: \"ProductNo2_quantity\"\n",
    "inventory[\"ProductNo2_price\"]: \"ProductNo2_price\"\n",
    "inventory[\"ProductNo2_releaseYear\"]: \"ProductNo2_releaseYear\"\n",
    "\"ProductNo1_releaseYear\" in inventory\n",
    "\"ProductNo2_releaseYear\" in inventory"
   ]
  },
  {
   "cell_type": "code",
   "execution_count": 26,
   "metadata": {},
   "outputs": [
    {
     "name": "stdout",
     "output_type": "stream",
     "text": [
      "{'ProductNo2': 'Laptop', 'ProductNo1_quantity': 10, 'ProductNo1_price': 50000, 'ProductNo1_releaseYear': 2023}\n"
     ]
    },
    {
     "data": {
      "text/plain": [
       "False"
      ]
     },
     "execution_count": 26,
     "metadata": {},
     "output_type": "execute_result"
    }
   ],
   "source": [
    "# Delete the release year of both products fro mthe inventory\n",
    "inventory = {\"ProductNo1\": \"Mobile Phone\", \n",
    "\"ProductNo1_quantity\":5, \n",
    "\"ProductNo1_price\": 20000, \n",
    "\"ProductNo1_releaseYear\": 2020}\n",
    "inventory[\"ProductNo1\"]: \"ProductNo1\"\n",
    "inventory[\"ProductNo1_quantity\"]: \"ProductNo1_quantity\"\n",
    "inventory[\"ProductNo1_price\"]: \"ProductNo1_price\"\n",
    "inventory[\"ProductNo1_releaseYear\"]: \"ProductNo1_releaseYear\"\n",
    "inventory = {\"ProductNo2\": \"Laptop\", \n",
    "\"ProductNo1_quantity\":10, \n",
    "\"ProductNo1_price\": 50000, \n",
    "\"ProductNo1_releaseYear\": 2023}\n",
    "inventory[\"ProductNo2\"]: \"ProductNo2\"\n",
    "inventory[\"ProductNo2_quantity\"]: \"ProductNo2_quantity\"\n",
    "inventory[\"ProductNo2_price\"]: \"ProductNo2_price\"\n",
    "inventory[\"ProductNo2_releaseYear\"]: \"ProductNo2_releaseYear\"\n",
    "print(inventory)\n",
    "\"ProductNo1_releaseYear\" in inventory\n",
    "\"ProductNo2_releaseYear\" in inventory"
   ]
  }
 ],
 "metadata": {
  "kernelspec": {
   "display_name": "Python 3",
   "language": "python",
   "name": "python3"
  },
  "language_info": {
   "codemirror_mode": {
    "name": "ipython",
    "version": 3
   },
   "file_extension": ".py",
   "mimetype": "text/x-python",
   "name": "python",
   "nbconvert_exporter": "python",
   "pygments_lexer": "ipython3",
   "version": "3.11.9"
  }
 },
 "nbformat": 4,
 "nbformat_minor": 2
}
